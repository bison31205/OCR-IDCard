{
 "cells": [
  {
   "cell_type": "code",
   "execution_count": 1,
   "metadata": {},
   "outputs": [
    {
     "name": "stdout",
     "output_type": "stream",
     "text": [
      "nclass: 5990\n"
     ]
    }
   ],
   "source": [
    "dataset = '/home/ubuntu/文档/Synthetic Chinese String Dataset/'\n",
    "# tf's CTC: the last class is reserved to the blank label.\n",
    "char = ''\n",
    "with open(dataset + 'char_std_5990.txt', encoding='utf-8') as f:\n",
    "    for ch in f.readlines():\n",
    "        ch = ch.strip('\\r\\n')\n",
    "        char = char + ch\n",
    "            \n",
    "# 使用 卍 代替 blank 来可视化输出\n",
    "char =char[:len(char)-5]+'卍'\n",
    "nclass = len(char)\n",
    "print('nclass:', nclass)\n",
    "id_to_char = {i:j for i,j in enumerate(char)}"
   ]
  },
  {
   "cell_type": "code",
   "execution_count": 2,
   "metadata": {},
   "outputs": [
    {
     "name": "stderr",
     "output_type": "stream",
     "text": [
      "/home/ubuntu/anaconda3/lib/python3.6/site-packages/h5py/__init__.py:36: FutureWarning: Conversion of the second argument of issubdtype from `float` to `np.floating` is deprecated. In future, it will be treated as `np.float64 == np.dtype(float).type`.\n",
      "  from ._conv import register_converters as _register_converters\n",
      "Using TensorFlow backend.\n"
     ]
    }
   ],
   "source": [
    "%matplotlib inline\n",
    "%load_ext autoreload\n",
    "%autoreload 2\n",
    "\n",
    "import os\n",
    "import numpy as np\n",
    "from PIL import Image\n",
    "from matplotlib import pyplot as plt\n",
    "\n",
    "import keras.backend as K\n",
    "from keras.models import Model\n",
    "from keras.layers import Input\n",
    "from keras.utils import multi_gpu_model\n",
    "import tensorflow as tf\n",
    "\n",
    "from imp import reload \n",
    "import densenet\n",
    "reload(densenet) # 自动检测修改源码 reload\n",
    "\n",
    "\n",
    "gpu_options = tf.GPUOptions(per_process_gpu_memory_fraction=0.6)\n",
    "session = tf.Session(config=tf.ConfigProto(gpu_options=gpu_options, allow_soft_placement=True))\n",
    "K.set_session(session)\n",
    "\n",
    "\n",
    "modelPath = './model/densenet-model.h5'\n",
    "input = Input(shape=(32, None, 1), name='the_input')\n",
    "y_pred = densenet.dense_cnn(input, nclass)\n",
    "model = Model(inputs=input, outputs=y_pred)\n",
    "model.load_weights(modelPath)\n",
    "\n",
    "\n",
    "def resize(img):\n",
    "    scale = img.size[1] * 1.0 / 32\n",
    "    w = int(img.size[0] / scale)\n",
    "    img = img.resize((w, 32), Image.ANTIALIAS)\n",
    "    return img\n",
    "\n",
    "def predict(img):\n",
    "    img = img.convert('L')\n",
    "    img = resize(img)\n",
    "    \n",
    "    img = np.array(img).astype(np.float32) / 255.0 - 0.5\n",
    "    X = np.expand_dims(img, axis=2)\n",
    "    X = np.array([X])\n",
    "    \n",
    "    y_pred = model.predict(X)\n",
    "    y_pred = y_pred[:,:,:]\n",
    "    out = K.get_value(K.ctc_decode(y_pred, input_length=np.ones(y_pred.shape[0])*y_pred.shape[1])[0][0])[:, :]\n",
    "    out = ''.join([id_to_char[x] for x in out[0]])\n",
    "    return out"
   ]
  },
  {
   "cell_type": "markdown",
   "metadata": {},
   "source": [
    "ctc_decode(y_pred, input_length, greedy=True, beam_width=None, dict_seq_lens=None, dict_values=None)\n",
    "\n",
    "使用贪婪算法或带约束的字典搜索算法解码softmax的输出\n",
    "\n",
    "参数：\n",
    "\n",
    "y_pred：形如(samples，time_steps，num_categories)的张量，包含预测值或输出的softmax值\n",
    "\n",
    "input_length：形如(samples，1)的张量，包含y_pred中每个batch的序列长\n",
    "\n",
    "greedy：设置为True使用贪婪算法，速度快\n",
    "\n",
    "dict_seq_lens：dic_values列表中各元素的长度\n",
    "\n",
    "dict_values：列表的列表，代表字典\n",
    "\n",
    "返回值：形如(samples，time_steps，num_catgories)的张量，包含了路径可能性（以softmax概率的形式）。注意仍然需要一个用来取出argmax和处理空白标签的函数"
   ]
  },
  {
   "cell_type": "code",
   "execution_count": 3,
   "metadata": {},
   "outputs": [
    {
     "name": "stdout",
     "output_type": "stream",
     "text": [
      "预测结果 0x38e3fEc4C的61E72c9452078Ea7AFe8D4217B0D57\n"
     ]
    },
    {
     "data": {
      "text/plain": [
       "<matplotlib.image.AxesImage at 0x7fde780d76d8>"
      ]
     },
     "execution_count": 3,
     "metadata": {},
     "output_type": "execute_result"
    },
    {
     "data": {
      "image/png": "[encoded data removed]",
      "text/plain": [
       "<matplotlib.figure.Figure at 0x7fde7815fcf8>"
      ]
     },
     "metadata": {},
     "output_type": "display_data"
    }
   ],
   "source": [
    "testimage = 'img/demo.jpg'\n",
    "img = Image.open(testimage)\n",
    "out = predict(img)\n",
    "print('预测结果', out)\n",
    "plt.imshow(img)"
   ]
  }
 ],
 "metadata": {
  "kernelspec": {
   "display_name": "Python 3",
   "language": "python",
   "name": "python3"
  },
  "language_info": {
   "codemirror_mode": {
    "name": "ipython",
    "version": 3
   },
   "file_extension": ".py",
   "mimetype": "text/x-python",
   "name": "python",
   "nbconvert_exporter": "python",
   "pygments_lexer": "ipython3",
   "version": "3.6.4"
  }
 },
 "nbformat": 4,
 "nbformat_minor": 1
}
